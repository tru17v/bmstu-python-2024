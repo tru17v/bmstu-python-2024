{
 "cells": [
  {
   "cell_type": "markdown",
   "metadata": {},
   "source": [
    "<h1 style=\"text-align: center;\">Операторы сравнения</h1>"
   ]
  },
  {
   "cell_type": "markdown",
   "metadata": {},
   "source": [
    "Всего в python доступны 6 операторов:\n",
    "\n",
    "- **<** - меньше\n",
    "- **>** - больше\n",
    "- **<=** - меньше или равно\n",
    "- **>=** - больше или равно\n",
    "- **==** - равно\n",
    "- **!=** - не равно"
   ]
  },
  {
   "cell_type": "markdown",
   "metadata": {},
   "source": [
    "Определим несколько переменных"
   ]
  },
  {
   "cell_type": "code",
   "execution_count": 1,
   "metadata": {},
   "outputs": [],
   "source": [
    "a = 5\n",
    "b = -3\n",
    "c = 8\n"
   ]
  },
  {
   "cell_type": "markdown",
   "metadata": {},
   "source": [
    "Выведем логические значения, которые получаются в результате использования операторов.\n",
    "\n",
    "- **True** - если условие выполняется\n",
    "- **False** - если условие не выполняется"
   ]
  },
  {
   "cell_type": "code",
   "execution_count": 2,
   "metadata": {},
   "outputs": [
    {
     "name": "stdout",
     "output_type": "stream",
     "text": [
      "True\n",
      "False\n",
      "True\n"
     ]
    }
   ],
   "source": [
    "print(a > 0)\n",
    "print(b == 7)\n",
    "print(a*b*c != 3)\n"
   ]
  },
  {
   "cell_type": "markdown",
   "metadata": {},
   "source": [
    "---"
   ]
  },
  {
   "cell_type": "markdown",
   "metadata": {},
   "source": [
    "<h1 style=\"text-align: center;\">Условные операторы</h1>"
   ]
  },
  {
   "cell_type": "markdown",
   "metadata": {},
   "source": [
    "Работа с оператором **if** предполагает схему:\n",
    "\n",
    "**Если** *условие*:\n",
    "\n",
    "&emsp; > Блок кода, который надо выполнить, если условие выполнятся.\n",
    "\n",
    "Частные случаи:\n",
    "\n",
    "- **if True:** - внутренний блок кода выполняется всегда\n",
    "- **if False:** - внутренний блок кода не выполняется никогда"
   ]
  },
  {
   "cell_type": "code",
   "execution_count": 3,
   "metadata": {},
   "outputs": [
    {
     "name": "stdout",
     "output_type": "stream",
     "text": [
      "Истина\n"
     ]
    }
   ],
   "source": [
    "if True:\n",
    "    print('Истина')\n",
    "if False:\n",
    "    print('Ложь')\n"
   ]
  },
  {
   "cell_type": "markdown",
   "metadata": {},
   "source": [
    "Ещё немного примеров"
   ]
  },
  {
   "cell_type": "code",
   "execution_count": 4,
   "metadata": {},
   "outputs": [
    {
     "name": "stdout",
     "output_type": "stream",
     "text": [
      "a - положительное\n",
      "a и c - неотрицательные\n",
      "b не равно 42\n"
     ]
    }
   ],
   "source": [
    "if a > 0:\n",
    "    print('a - положительное')\n",
    "\n",
    "if a >= 0 and c >= 0:\n",
    "    print('a и c - неотрицательные')\n",
    "\n",
    "if b != 42:\n",
    "    print('b не равно 42')\n"
   ]
  },
  {
   "cell_type": "markdown",
   "metadata": {},
   "source": [
    "Конструкции условных операторов могут быть сложнее.\n",
    "\n",
    "- **if** - если\n",
    "- **elif** - иначе если (**else + if**)\n",
    "- **else** - иначе"
   ]
  },
  {
   "cell_type": "markdown",
   "metadata": {},
   "source": [
    "Введем с клавиатуры значение $t$, после чего проверим его значение. Если $t\\in[-1,1]$, будем считать его нормальным.\n",
    "\n",
    "Помним, что изначально с помощью **input()** вводится строка, поэтому сначала преобразуем её к типу **float**."
   ]
  },
  {
   "cell_type": "code",
   "execution_count": 5,
   "metadata": {},
   "outputs": [
    {
     "name": "stdout",
     "output_type": "stream",
     "text": [
      "Слишом много\n"
     ]
    }
   ],
   "source": [
    "t = float(input())\n",
    "\n",
    "if t < -1:\n",
    "    print('Слишком мало')\n",
    "elif t > 1:\n",
    "    print('Слишом много')\n",
    "else:\n",
    "    print('Нормальное значение')\n"
   ]
  },
  {
   "cell_type": "markdown",
   "metadata": {},
   "source": [
    "### Конструкция **match/case**"
   ]
  },
  {
   "cell_type": "code",
   "execution_count": 6,
   "metadata": {},
   "outputs": [
    {
     "name": "stdout",
     "output_type": "stream",
     "text": [
      "Другое значение\n"
     ]
    }
   ],
   "source": [
    "p = int(input())\n",
    "\n",
    "match p:\n",
    "    case 1:\n",
    "        print('Один')\n",
    "    case 2:\n",
    "        print('Два')\n",
    "    case _:\n",
    "        print('Другое значение')\n"
   ]
  },
  {
   "cell_type": "markdown",
   "metadata": {},
   "source": [
    "---"
   ]
  },
  {
   "cell_type": "markdown",
   "metadata": {},
   "source": [
    "<h1 style=\"text-align: center;\">Циклы</h1>"
   ]
  },
  {
   "cell_type": "markdown",
   "metadata": {},
   "source": [
    "### Оператор **while**"
   ]
  },
  {
   "cell_type": "markdown",
   "metadata": {},
   "source": [
    "Покажем его работу на примере.\n",
    "\n",
    "Тело цикла выполняется **до тех пор, пока** выполняется условие"
   ]
  },
  {
   "cell_type": "code",
   "execution_count": 7,
   "metadata": {},
   "outputs": [
    {
     "name": "stdout",
     "output_type": "stream",
     "text": [
      "0\n",
      "1\n",
      "2\n",
      "3\n",
      "4\n"
     ]
    }
   ],
   "source": [
    "j = 0\n",
    "\n",
    "while j < 5:\n",
    "    print(j)\n",
    "    j += 1\n"
   ]
  },
  {
   "cell_type": "markdown",
   "metadata": {},
   "source": [
    "Оператор **while** удобно использовать, если число итераций заранее не известно, но стоит помнить что если условие будет выполняться всегда, цикл станет бесконечным "
   ]
  },
  {
   "cell_type": "code",
   "execution_count": 8,
   "metadata": {},
   "outputs": [],
   "source": [
    "# j=0\n",
    "\n",
    "# while j<5:\n",
    "#     print(j)\n"
   ]
  },
  {
   "cell_type": "markdown",
   "metadata": {},
   "source": [
    "Иногда работать с бесконечными циклами удобно. Покажем это на предыдущем примере.\n",
    "\n",
    "Если значение \"нормальное\", цикл прерывается командой **break**"
   ]
  },
  {
   "cell_type": "code",
   "execution_count": 16,
   "metadata": {},
   "outputs": [
    {
     "name": "stdout",
     "output_type": "stream",
     "text": [
      "Нормальное значение\n"
     ]
    }
   ],
   "source": [
    "while True:\n",
    "    t = int(input())\n",
    "    if t < -1:\n",
    "        print('Слишком мало')\n",
    "    elif t > 1:\n",
    "        print('Слишом много')\n",
    "    else:\n",
    "        print('Нормальное значение')\n",
    "        break\n"
   ]
  },
  {
   "cell_type": "markdown",
   "metadata": {},
   "source": [
    "### Оператор **for**"
   ]
  },
  {
   "cell_type": "markdown",
   "metadata": {},
   "source": [
    "Этот оператор работает по схеме:\n",
    "\n",
    "**Для** *i* **в** *<Диапазон\\список>*:\n",
    "\n",
    "&emsp; > Блок кода, который надо выполнить при текущем значении *i*."
   ]
  },
  {
   "cell_type": "markdown",
   "metadata": {},
   "source": [
    "**range(N)** задаёт диапазон целых чисел от $0$, до $N-1$"
   ]
  },
  {
   "cell_type": "code",
   "execution_count": 10,
   "metadata": {},
   "outputs": [
    {
     "name": "stdout",
     "output_type": "stream",
     "text": [
      "0\n",
      "1\n",
      "2\n",
      "3\n",
      "4\n"
     ]
    }
   ],
   "source": [
    "for i in range(5):\n",
    "    print(i)\n"
   ]
  },
  {
   "cell_type": "markdown",
   "metadata": {},
   "source": [
    "Можно указать и дополнительные параметры **range(start, stop, step)**:\n",
    "- **start** - с какого начать\n",
    "- **stop** - перед каким остановиться\n",
    "- **step** - с каким шагом двигаться"
   ]
  },
  {
   "cell_type": "code",
   "execution_count": 11,
   "metadata": {},
   "outputs": [
    {
     "name": "stdout",
     "output_type": "stream",
     "text": [
      "2\n",
      "4\n",
      "6\n",
      "8\n",
      "10\n",
      "12\n",
      "14\n"
     ]
    }
   ],
   "source": [
    "for i in range(2, 16, 2):\n",
    "    print(i)\n"
   ]
  },
  {
   "cell_type": "markdown",
   "metadata": {},
   "source": [
    "В цикле **for** можно проходить не только по целым числам, но и, например, по элементам списка"
   ]
  },
  {
   "cell_type": "code",
   "execution_count": 12,
   "metadata": {},
   "outputs": [
    {
     "name": "stdout",
     "output_type": "stream",
     "text": [
      "1\n",
      "2\n",
      "asd\n",
      "5\n",
      "6sda\n",
      "1.3\n"
     ]
    }
   ],
   "source": [
    "values = [1, 2, 'asd', 5, '6sda', 1.3]\n",
    "\n",
    "for item in values:\n",
    "    print(item)\n"
   ]
  },
  {
   "cell_type": "markdown",
   "metadata": {},
   "source": [
    "Также полезно помнить про функцию **enumerate()**, которая позволяет пробегать и по индексам, и по элементам сразу же"
   ]
  },
  {
   "cell_type": "code",
   "execution_count": 13,
   "metadata": {},
   "outputs": [
    {
     "name": "stdout",
     "output_type": "stream",
     "text": [
      "Элемент №1 - это 1\n",
      "Элемент №2 - это 2\n",
      "Элемент №3 - это asd\n",
      "Элемент №4 - это 5\n",
      "Элемент №5 - это 6sda\n",
      "Элемент №6 - это 1.3\n"
     ]
    }
   ],
   "source": [
    "for i, item in enumerate(values):\n",
    "    print(f'Элемент №{i+1} - это {item}')\n"
   ]
  },
  {
   "cell_type": "markdown",
   "metadata": {},
   "source": [
    "---"
   ]
  },
  {
   "cell_type": "markdown",
   "metadata": {},
   "source": [
    "<h1 style=\"text-align: center;\">Два слова про функции</h1>\n"
   ]
  },
  {
   "cell_type": "markdown",
   "metadata": {},
   "source": [
    "- Задаётся с помощью ключеевого слова **def**, затем следует название функции, после чего в круглых скобках входные параметры.\n",
    "\n",
    "- Тело функции идёт с отступом. \n",
    "\n",
    "- Функция возвращает параметры с помощью ключевого слова **return**.\n",
    "\n",
    "- Функция - своего рода набор инструкций, которые выполняются в момент вызова функции в основном коде"
   ]
  },
  {
   "cell_type": "code",
   "execution_count": 14,
   "metadata": {},
   "outputs": [
    {
     "data": {
      "text/plain": [
       "5"
      ]
     },
     "execution_count": 14,
     "metadata": {},
     "output_type": "execute_result"
    }
   ],
   "source": [
    "def sum(a, b):\n",
    "    return a+b\n",
    "\n",
    "\n",
    "sum(2, 3)\n"
   ]
  },
  {
   "cell_type": "markdown",
   "metadata": {},
   "source": [
    "---"
   ]
  },
  {
   "cell_type": "markdown",
   "metadata": {},
   "source": [
    "### Задание\n",
    "\n",
    "Дана булева фунция от двух переменных, вывести таблицу истинности.\n",
    "\n",
    "|$x_1$|$x_2$|$f(x_1,x_2)$|\n",
    "|:---:|:---:|:---:|\n",
    "|0|0| |\n",
    "|0|1| |\n",
    "|1|0| |\n",
    "|1|1| |\n",
    "\n",
    "Рассмотрим импликацию $x\\rightarrow y = \\neg x \\vee y$ в качестве булевой функции"
   ]
  },
  {
   "cell_type": "markdown",
   "metadata": {},
   "source": [
    "### Решение"
   ]
  },
  {
   "cell_type": "code",
   "execution_count": 15,
   "metadata": {},
   "outputs": [
    {
     "name": "stdout",
     "output_type": "stream",
     "text": [
      "| x | y | x-->y |\n",
      "-----------------\n",
      "| 0 | 0 |   1   |\n",
      "| 0 | 1 |   1   |\n",
      "| 1 | 0 |   0   |\n",
      "| 1 | 1 |   1   |\n"
     ]
    }
   ],
   "source": [
    "def boolean_function(x, y):\n",
    "    result = (not x) or y\n",
    "    return int(result)\n",
    "\n",
    "\n",
    "x = [0, 0, 1, 1]\n",
    "y = [0, 1, 0, 1]\n",
    "\n",
    "header = '| x | y | x-->y |'\n",
    "hline = '-'*len(header)\n",
    "\n",
    "print(header)\n",
    "print(hline)\n",
    "for i in range(len(x)):\n",
    "    print(f'| {x[i]} | {y[i]} |   {boolean_function(x[i],y[i])}   |')\n"
   ]
  }
 ],
 "metadata": {
  "kernelspec": {
   "display_name": "Python 3",
   "language": "python",
   "name": "python3"
  },
  "language_info": {
   "codemirror_mode": {
    "name": "ipython",
    "version": 3
   },
   "file_extension": ".py",
   "mimetype": "text/x-python",
   "name": "python",
   "nbconvert_exporter": "python",
   "pygments_lexer": "ipython3",
   "version": "3.11.3"
  }
 },
 "nbformat": 4,
 "nbformat_minor": 2
}
